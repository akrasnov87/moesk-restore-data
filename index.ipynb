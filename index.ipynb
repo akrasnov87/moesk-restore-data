{
 "cells": [
  {
   "cell_type": "markdown",
   "id": "2ebca4cc",
   "metadata": {},
   "source": [
    "# Загрузка данных"
   ]
  },
  {
   "cell_type": "code",
   "execution_count": 83,
   "id": "ecc3cc16",
   "metadata": {},
   "outputs": [],
   "source": [
    "import pandas as pd\n",
    "import json"
   ]
  },
  {
   "cell_type": "code",
   "execution_count": 84,
   "id": "8699d343",
   "metadata": {},
   "outputs": [],
   "source": [
    "FILE_NAME='data10-04.xlsx'"
   ]
  },
  {
   "cell_type": "code",
   "execution_count": 85,
   "id": "765c5532",
   "metadata": {},
   "outputs": [],
   "source": [
    "df = pd.read_excel(f'datasets/{FILE_NAME}')"
   ]
  },
  {
   "cell_type": "code",
   "execution_count": 86,
   "id": "774fddb3",
   "metadata": {},
   "outputs": [
    {
     "data": {
      "text/html": [
       "<div>\n",
       "<style scoped>\n",
       "    .dataframe tbody tr th:only-of-type {\n",
       "        vertical-align: middle;\n",
       "    }\n",
       "\n",
       "    .dataframe tbody tr th {\n",
       "        vertical-align: top;\n",
       "    }\n",
       "\n",
       "    .dataframe thead th {\n",
       "        text-align: right;\n",
       "    }\n",
       "</style>\n",
       "<table border=\"1\" class=\"dataframe\">\n",
       "  <thead>\n",
       "    <tr style=\"text-align: right;\">\n",
       "      <th></th>\n",
       "      <th>F_User</th>\n",
       "      <th>C_Record_ID</th>\n",
       "      <th>C_Table</th>\n",
       "      <th>N_Operation</th>\n",
       "      <th>C_Json</th>\n",
       "      <th>D_Date_Created</th>\n",
       "    </tr>\n",
       "  </thead>\n",
       "  <tbody>\n",
       "    <tr>\n",
       "      <th>0</th>\n",
       "      <td>64b18dc9-69d0-4286-887f-7469ebc1b47d</td>\n",
       "      <td>9770f581-b89f-4fb3-94f5-93173bb85ad1</td>\n",
       "      <td>ED_Meter_Readings-ListView</td>\n",
       "      <td>1</td>\n",
       "      <td>{\"LINK\":\"50fb47a1-6711-4e65-9232-3700daaa58bd\"...</td>\n",
       "      <td>2023-04-09 16:42:47.637</td>\n",
       "    </tr>\n",
       "    <tr>\n",
       "      <th>1</th>\n",
       "      <td>64b18dc9-69d0-4286-887f-7469ebc1b47d</td>\n",
       "      <td>5f97a8be-b3ad-4982-9191-fbed301b3c69</td>\n",
       "      <td>DD_Doc_Details-ListView</td>\n",
       "      <td>1</td>\n",
       "      <td>{\"LINK\":\"a95caaa0-a674-4f31-84d4-cbb52f0317f1\"...</td>\n",
       "      <td>2023-04-09 16:42:47.980</td>\n",
       "    </tr>\n",
       "    <tr>\n",
       "      <th>2</th>\n",
       "      <td>64b18dc9-69d0-4286-887f-7469ebc1b47d</td>\n",
       "      <td>d4c614dd-3114-4326-8ddd-bb9d74382b03</td>\n",
       "      <td>DD_Docs_Out-ListView</td>\n",
       "      <td>0</td>\n",
       "      <td>{\"LINK\":\"b1c13924-3f99-4e6c-a02a-34472f2c5320\"...</td>\n",
       "      <td>2023-04-09 16:42:48.627</td>\n",
       "    </tr>\n",
       "    <tr>\n",
       "      <th>3</th>\n",
       "      <td>64b18dc9-69d0-4286-887f-7469ebc1b47d</td>\n",
       "      <td>9ee02cde-4a6f-4c51-8e3b-b14ddae38bee</td>\n",
       "      <td>DD_Files-ListView</td>\n",
       "      <td>0</td>\n",
       "      <td>{\"LINK\":\"e010d6d0-1df5-790d-19fe-b007d7be4207\"...</td>\n",
       "      <td>2023-04-09 16:42:49.557</td>\n",
       "    </tr>\n",
       "    <tr>\n",
       "      <th>4</th>\n",
       "      <td>64b18dc9-69d0-4286-887f-7469ebc1b47d</td>\n",
       "      <td>6829a2cd-007c-45d8-88ca-e143617555c4</td>\n",
       "      <td>DD_Docs-ListView</td>\n",
       "      <td>1</td>\n",
       "      <td>{\"LINK\":\"b1c13924-3f99-4e6c-a02a-34472f2c5320\"...</td>\n",
       "      <td>2023-04-09 16:42:50.010</td>\n",
       "    </tr>\n",
       "  </tbody>\n",
       "</table>\n",
       "</div>"
      ],
      "text/plain": [
       "                                 F_User                           C_Record_ID  \\\n",
       "0  64b18dc9-69d0-4286-887f-7469ebc1b47d  9770f581-b89f-4fb3-94f5-93173bb85ad1   \n",
       "1  64b18dc9-69d0-4286-887f-7469ebc1b47d  5f97a8be-b3ad-4982-9191-fbed301b3c69   \n",
       "2  64b18dc9-69d0-4286-887f-7469ebc1b47d  d4c614dd-3114-4326-8ddd-bb9d74382b03   \n",
       "3  64b18dc9-69d0-4286-887f-7469ebc1b47d  9ee02cde-4a6f-4c51-8e3b-b14ddae38bee   \n",
       "4  64b18dc9-69d0-4286-887f-7469ebc1b47d  6829a2cd-007c-45d8-88ca-e143617555c4   \n",
       "\n",
       "                      C_Table  N_Operation  \\\n",
       "0  ED_Meter_Readings-ListView            1   \n",
       "1     DD_Doc_Details-ListView            1   \n",
       "2        DD_Docs_Out-ListView            0   \n",
       "3           DD_Files-ListView            0   \n",
       "4            DD_Docs-ListView            1   \n",
       "\n",
       "                                              C_Json           D_Date_Created  \n",
       "0  {\"LINK\":\"50fb47a1-6711-4e65-9232-3700daaa58bd\"...  2023-04-09 16:42:47.637  \n",
       "1  {\"LINK\":\"a95caaa0-a674-4f31-84d4-cbb52f0317f1\"...  2023-04-09 16:42:47.980  \n",
       "2  {\"LINK\":\"b1c13924-3f99-4e6c-a02a-34472f2c5320\"...  2023-04-09 16:42:48.627  \n",
       "3  {\"LINK\":\"e010d6d0-1df5-790d-19fe-b007d7be4207\"...  2023-04-09 16:42:49.557  \n",
       "4  {\"LINK\":\"b1c13924-3f99-4e6c-a02a-34472f2c5320\"...  2023-04-09 16:42:50.010  "
      ]
     },
     "execution_count": 86,
     "metadata": {},
     "output_type": "execute_result"
    }
   ],
   "source": [
    "df.head()"
   ]
  },
  {
   "cell_type": "code",
   "execution_count": 87,
   "id": "7dd84997",
   "metadata": {},
   "outputs": [],
   "source": [
    "df['D_Date_Created'] = pd.to_datetime(df['D_Date_Created'])\n",
    "df['N_Operation'] = df['N_Operation'].astype('int8')"
   ]
  },
  {
   "cell_type": "code",
   "execution_count": 88,
   "id": "1badd8a6",
   "metadata": {},
   "outputs": [],
   "source": [
    "df.drop_duplicates(inplace=True)"
   ]
  },
  {
   "cell_type": "code",
   "execution_count": 89,
   "id": "9cec5643",
   "metadata": {},
   "outputs": [
    {
     "name": "stdout",
     "output_type": "stream",
     "text": [
      "<class 'pandas.core.frame.DataFrame'>\n",
      "Int64Index: 29561 entries, 0 to 31944\n",
      "Data columns (total 6 columns):\n",
      " #   Column          Non-Null Count  Dtype         \n",
      "---  ------          --------------  -----         \n",
      " 0   F_User          29561 non-null  object        \n",
      " 1   C_Record_ID     29561 non-null  object        \n",
      " 2   C_Table         29561 non-null  object        \n",
      " 3   N_Operation     29561 non-null  int8          \n",
      " 4   C_Json          29216 non-null  object        \n",
      " 5   D_Date_Created  29561 non-null  datetime64[ns]\n",
      "dtypes: datetime64[ns](1), int8(1), object(4)\n",
      "memory usage: 1.4+ MB\n"
     ]
    }
   ],
   "source": [
    "df.info()"
   ]
  },
  {
   "cell_type": "markdown",
   "id": "a2a68b4c",
   "metadata": {},
   "source": [
    "# Алгоритмы"
   ]
  },
  {
   "cell_type": "code",
   "execution_count": 90,
   "id": "660a2dcb",
   "metadata": {},
   "outputs": [],
   "source": [
    "users = df['F_User'].unique()"
   ]
  },
  {
   "cell_type": "code",
   "execution_count": 91,
   "id": "a9569dcc",
   "metadata": {},
   "outputs": [],
   "source": [
    "use_records = []"
   ]
  },
  {
   "cell_type": "markdown",
   "id": "14cca187",
   "metadata": {},
   "source": [
    "## Алгоритм 1"
   ]
  },
  {
   "cell_type": "markdown",
   "id": "ca984117",
   "metadata": {},
   "source": [
    "Последовательность DD_Doc_Details-ListView -> DD_Docs_Out-ListView -> DD_Docs-ListView (Отмена заявки на ограничение)"
   ]
  },
  {
   "cell_type": "code",
   "execution_count": 92,
   "id": "b42dd3e2",
   "metadata": {},
   "outputs": [],
   "source": [
    "dict_algoritm_1 = {}\n",
    "for i in range(len(users)):\n",
    "    dict_algoritm_1[users[i]] = []"
   ]
  },
  {
   "cell_type": "code",
   "execution_count": 93,
   "id": "d578e9ab",
   "metadata": {},
   "outputs": [],
   "source": [
    "def algoritm_1(user_id):    \n",
    "    items = df.loc[df['F_User'] == user_id].sort_values(by=['D_Date_Created'], ascending=True)\n",
    "\n",
    "    indexes = list(items.index)\n",
    "    tables = list(items['C_Table'])\n",
    "    operations = list(items['N_Operation'])\n",
    "    json_items = list(items['C_Json'])\n",
    "    resords = list(items['C_Record_ID'])\n",
    "\n",
    "    buffer = []\n",
    "    \n",
    "    for i in range(len(tables)):\n",
    "        table = tables[i]\n",
    "        operation = operations[i]\n",
    "        json_item = json_items[i]\n",
    "        index = indexes[i]\n",
    "        record = resords[i]\n",
    "\n",
    "        if table == 'DD_Doc_Details-ListView':\n",
    "            if len(buffer) == 3:\n",
    "                if buffer[1][4]['LINK'] == buffer[2][4]['LINK'] and buffer[0][4]['F_Docs']['LINK'] == buffer[2][4]['LINK']:\n",
    "                    for j in range(len(buffer)):\n",
    "                        # обновляем docs_out\n",
    "                        buffer[1][4]['LINK'] = buffer[1][1]\n",
    "                        buffer[1][4]['F_Doc_Details']['LINK'] = buffer[0][4]['LINK']\n",
    "                        \n",
    "                        dict_algoritm_1[user_id].append(buffer[j])\n",
    "                        use_records.append(buffer[j][1])\n",
    "                \n",
    "            buffer = []\n",
    "            \n",
    "            buffer.append([index, record, table, operation, json.loads(json_item)])\n",
    "        \n",
    "        if table == 'DD_Docs_Out-ListView' and len(buffer) == 1:\n",
    "            buffer.append([index, record, table, operation, json.loads(json_item)])\n",
    "            \n",
    "        if table == 'DD_Docs-ListView' and len(buffer) == 2:\n",
    "            buffer.append([index, record, table, operation, json.loads(json_item)])\n",
    "            \n",
    "    # дозаписываем данные\n",
    "    if len(buffer) == 3:\n",
    "        for j in range(len(buffer)):\n",
    "            dict_algoritm_1[user_id].append(buffer[j])"
   ]
  },
  {
   "cell_type": "code",
   "execution_count": 94,
   "id": "2ca929fd",
   "metadata": {},
   "outputs": [],
   "source": [
    "for i in range(len(users)):\n",
    "    user_id = users[i]\n",
    "    algoritm_1(user_id)"
   ]
  },
  {
   "cell_type": "code",
   "execution_count": 95,
   "id": "4267da01",
   "metadata": {},
   "outputs": [],
   "source": [
    "df = df[~df['C_Record_ID'].isin(use_records)]"
   ]
  },
  {
   "cell_type": "code",
   "execution_count": 96,
   "id": "3ab01a9a",
   "metadata": {},
   "outputs": [
    {
     "name": "stdout",
     "output_type": "stream",
     "text": [
      "<class 'pandas.core.frame.DataFrame'>\n",
      "Int64Index: 18809 entries, 0 to 31944\n",
      "Data columns (total 6 columns):\n",
      " #   Column          Non-Null Count  Dtype         \n",
      "---  ------          --------------  -----         \n",
      " 0   F_User          18809 non-null  object        \n",
      " 1   C_Record_ID     18809 non-null  object        \n",
      " 2   C_Table         18809 non-null  object        \n",
      " 3   N_Operation     18809 non-null  int8          \n",
      " 4   C_Json          18464 non-null  object        \n",
      " 5   D_Date_Created  18809 non-null  datetime64[ns]\n",
      "dtypes: datetime64[ns](1), int8(1), object(4)\n",
      "memory usage: 900.0+ KB\n"
     ]
    }
   ],
   "source": [
    "df.info()"
   ]
  },
  {
   "cell_type": "code",
   "execution_count": null,
   "id": "d5885b2b",
   "metadata": {},
   "outputs": [],
   "source": []
  }
 ],
 "metadata": {
  "kernelspec": {
   "display_name": "Python 3 (ipykernel)",
   "language": "python",
   "name": "python3"
  },
  "language_info": {
   "codemirror_mode": {
    "name": "ipython",
    "version": 3
   },
   "file_extension": ".py",
   "mimetype": "text/x-python",
   "name": "python",
   "nbconvert_exporter": "python",
   "pygments_lexer": "ipython3",
   "version": "3.10.11"
  },
  "toc": {
   "base_numbering": 1,
   "nav_menu": {},
   "number_sections": true,
   "sideBar": true,
   "skip_h1_title": false,
   "title_cell": "Table of Contents",
   "title_sidebar": "Contents",
   "toc_cell": false,
   "toc_position": {},
   "toc_section_display": true,
   "toc_window_display": true
  }
 },
 "nbformat": 4,
 "nbformat_minor": 5
}
