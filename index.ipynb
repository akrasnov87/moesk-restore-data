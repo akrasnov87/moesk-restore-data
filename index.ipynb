{
 "cells": [
  {
   "cell_type": "markdown",
   "id": "9cf50da2",
   "metadata": {},
   "source": [
    "# Загрузка данных"
   ]
  },
  {
   "cell_type": "code",
   "execution_count": 928,
   "id": "8603aa75",
   "metadata": {},
   "outputs": [],
   "source": [
    "import pandas as pd\n",
    "import json"
   ]
  },
  {
   "cell_type": "code",
   "execution_count": 929,
   "id": "d9952a1c",
   "metadata": {},
   "outputs": [],
   "source": [
    "FILE_NAME='data10-04.xlsx'"
   ]
  },
  {
   "cell_type": "code",
   "execution_count": 930,
   "id": "0b95a333",
   "metadata": {},
   "outputs": [],
   "source": [
    "df = pd.read_excel(f'datasets/{FILE_NAME}')"
   ]
  },
  {
   "cell_type": "code",
   "execution_count": 931,
   "id": "ed6e5f4c",
   "metadata": {},
   "outputs": [
    {
     "data": {
      "text/html": [
       "<div>\n",
       "<style scoped>\n",
       "    .dataframe tbody tr th:only-of-type {\n",
       "        vertical-align: middle;\n",
       "    }\n",
       "\n",
       "    .dataframe tbody tr th {\n",
       "        vertical-align: top;\n",
       "    }\n",
       "\n",
       "    .dataframe thead th {\n",
       "        text-align: right;\n",
       "    }\n",
       "</style>\n",
       "<table border=\"1\" class=\"dataframe\">\n",
       "  <thead>\n",
       "    <tr style=\"text-align: right;\">\n",
       "      <th></th>\n",
       "      <th>F_User</th>\n",
       "      <th>C_Record_ID</th>\n",
       "      <th>C_Table</th>\n",
       "      <th>N_Operation</th>\n",
       "      <th>C_Json</th>\n",
       "      <th>D_Date_Created</th>\n",
       "    </tr>\n",
       "  </thead>\n",
       "  <tbody>\n",
       "    <tr>\n",
       "      <th>0</th>\n",
       "      <td>64b18dc9-69d0-4286-887f-7469ebc1b47d</td>\n",
       "      <td>9770f581-b89f-4fb3-94f5-93173bb85ad1</td>\n",
       "      <td>ED_Meter_Readings-ListView</td>\n",
       "      <td>1</td>\n",
       "      <td>{\"LINK\":\"50fb47a1-6711-4e65-9232-3700daaa58bd\"...</td>\n",
       "      <td>2023-04-09 16:42:47.637</td>\n",
       "    </tr>\n",
       "    <tr>\n",
       "      <th>1</th>\n",
       "      <td>64b18dc9-69d0-4286-887f-7469ebc1b47d</td>\n",
       "      <td>5f97a8be-b3ad-4982-9191-fbed301b3c69</td>\n",
       "      <td>DD_Doc_Details-ListView</td>\n",
       "      <td>1</td>\n",
       "      <td>{\"LINK\":\"a95caaa0-a674-4f31-84d4-cbb52f0317f1\"...</td>\n",
       "      <td>2023-04-09 16:42:47.980</td>\n",
       "    </tr>\n",
       "    <tr>\n",
       "      <th>2</th>\n",
       "      <td>64b18dc9-69d0-4286-887f-7469ebc1b47d</td>\n",
       "      <td>d4c614dd-3114-4326-8ddd-bb9d74382b03</td>\n",
       "      <td>DD_Docs_Out-ListView</td>\n",
       "      <td>0</td>\n",
       "      <td>{\"LINK\":\"b1c13924-3f99-4e6c-a02a-34472f2c5320\"...</td>\n",
       "      <td>2023-04-09 16:42:48.627</td>\n",
       "    </tr>\n",
       "    <tr>\n",
       "      <th>3</th>\n",
       "      <td>64b18dc9-69d0-4286-887f-7469ebc1b47d</td>\n",
       "      <td>9ee02cde-4a6f-4c51-8e3b-b14ddae38bee</td>\n",
       "      <td>DD_Files-ListView</td>\n",
       "      <td>0</td>\n",
       "      <td>{\"LINK\":\"e010d6d0-1df5-790d-19fe-b007d7be4207\"...</td>\n",
       "      <td>2023-04-09 16:42:49.557</td>\n",
       "    </tr>\n",
       "    <tr>\n",
       "      <th>4</th>\n",
       "      <td>64b18dc9-69d0-4286-887f-7469ebc1b47d</td>\n",
       "      <td>6829a2cd-007c-45d8-88ca-e143617555c4</td>\n",
       "      <td>DD_Docs-ListView</td>\n",
       "      <td>1</td>\n",
       "      <td>{\"LINK\":\"b1c13924-3f99-4e6c-a02a-34472f2c5320\"...</td>\n",
       "      <td>2023-04-09 16:42:50.010</td>\n",
       "    </tr>\n",
       "  </tbody>\n",
       "</table>\n",
       "</div>"
      ],
      "text/plain": [
       "                                 F_User                           C_Record_ID  \\\n",
       "0  64b18dc9-69d0-4286-887f-7469ebc1b47d  9770f581-b89f-4fb3-94f5-93173bb85ad1   \n",
       "1  64b18dc9-69d0-4286-887f-7469ebc1b47d  5f97a8be-b3ad-4982-9191-fbed301b3c69   \n",
       "2  64b18dc9-69d0-4286-887f-7469ebc1b47d  d4c614dd-3114-4326-8ddd-bb9d74382b03   \n",
       "3  64b18dc9-69d0-4286-887f-7469ebc1b47d  9ee02cde-4a6f-4c51-8e3b-b14ddae38bee   \n",
       "4  64b18dc9-69d0-4286-887f-7469ebc1b47d  6829a2cd-007c-45d8-88ca-e143617555c4   \n",
       "\n",
       "                      C_Table  N_Operation  \\\n",
       "0  ED_Meter_Readings-ListView            1   \n",
       "1     DD_Doc_Details-ListView            1   \n",
       "2        DD_Docs_Out-ListView            0   \n",
       "3           DD_Files-ListView            0   \n",
       "4            DD_Docs-ListView            1   \n",
       "\n",
       "                                              C_Json           D_Date_Created  \n",
       "0  {\"LINK\":\"50fb47a1-6711-4e65-9232-3700daaa58bd\"...  2023-04-09 16:42:47.637  \n",
       "1  {\"LINK\":\"a95caaa0-a674-4f31-84d4-cbb52f0317f1\"...  2023-04-09 16:42:47.980  \n",
       "2  {\"LINK\":\"b1c13924-3f99-4e6c-a02a-34472f2c5320\"...  2023-04-09 16:42:48.627  \n",
       "3  {\"LINK\":\"e010d6d0-1df5-790d-19fe-b007d7be4207\"...  2023-04-09 16:42:49.557  \n",
       "4  {\"LINK\":\"b1c13924-3f99-4e6c-a02a-34472f2c5320\"...  2023-04-09 16:42:50.010  "
      ]
     },
     "execution_count": 931,
     "metadata": {},
     "output_type": "execute_result"
    }
   ],
   "source": [
    "df.head()"
   ]
  },
  {
   "cell_type": "code",
   "execution_count": 932,
   "id": "fc999add",
   "metadata": {},
   "outputs": [],
   "source": [
    "df['D_Date_Created'] = pd.to_datetime(df['D_Date_Created'])\n",
    "df['N_Operation'] = df['N_Operation'].astype('int8')"
   ]
  },
  {
   "cell_type": "code",
   "execution_count": 933,
   "id": "715d6b8b",
   "metadata": {},
   "outputs": [],
   "source": [
    "df.drop_duplicates(inplace=True)"
   ]
  },
  {
   "cell_type": "code",
   "execution_count": 934,
   "id": "992c0ec0",
   "metadata": {},
   "outputs": [
    {
     "name": "stdout",
     "output_type": "stream",
     "text": [
      "<class 'pandas.core.frame.DataFrame'>\n",
      "Int64Index: 29561 entries, 0 to 31944\n",
      "Data columns (total 6 columns):\n",
      " #   Column          Non-Null Count  Dtype         \n",
      "---  ------          --------------  -----         \n",
      " 0   F_User          29561 non-null  object        \n",
      " 1   C_Record_ID     29561 non-null  object        \n",
      " 2   C_Table         29561 non-null  object        \n",
      " 3   N_Operation     29561 non-null  int8          \n",
      " 4   C_Json          29216 non-null  object        \n",
      " 5   D_Date_Created  29561 non-null  datetime64[ns]\n",
      "dtypes: datetime64[ns](1), int8(1), object(4)\n",
      "memory usage: 1.4+ MB\n"
     ]
    }
   ],
   "source": [
    "df.info()"
   ]
  },
  {
   "cell_type": "markdown",
   "id": "c9bb87b2",
   "metadata": {},
   "source": [
    "# Алгоритмы"
   ]
  },
  {
   "cell_type": "code",
   "execution_count": 935,
   "id": "2eba9b5f",
   "metadata": {},
   "outputs": [],
   "source": [
    "users = df['F_User'].unique()"
   ]
  },
  {
   "cell_type": "code",
   "execution_count": 936,
   "id": "698be382",
   "metadata": {},
   "outputs": [],
   "source": [
    "use_records = []\n",
    "correct_records = []"
   ]
  },
  {
   "cell_type": "markdown",
   "id": "fba3eaab",
   "metadata": {},
   "source": [
    "## Алгоритм"
   ]
  },
  {
   "cell_type": "markdown",
   "id": "91ddfb17",
   "metadata": {},
   "source": [
    "Последовательность ED_Meter_Readings-ListView -> DD_Doc_Details-ListView -> DD_Docs_Out-ListView -> DD_Files-ListView -> DD_Docs-ListView"
   ]
  },
  {
   "cell_type": "code",
   "execution_count": 937,
   "id": "a3e4ca28",
   "metadata": {},
   "outputs": [],
   "source": [
    "dict_algoritm_1 = {}\n",
    "for i in range(len(users)):\n",
    "    dict_algoritm_1[users[i]] = []"
   ]
  },
  {
   "cell_type": "code",
   "execution_count": 938,
   "id": "9dc0f92f",
   "metadata": {},
   "outputs": [],
   "source": [
    "def algoritm_1(user_id):    \n",
    "    items = df.loc[df['F_User'] == user_id].sort_values(by=['D_Date_Created'], ascending=True)\n",
    "\n",
    "    indexes = list(items.index)\n",
    "    tables = list(items['C_Table'])\n",
    "    operations = list(items['N_Operation'])\n",
    "    json_items = list(items['C_Json'])\n",
    "    resords = list(items['C_Record_ID'])\n",
    "\n",
    "    buffer = {\n",
    "        'ED_Meter_Readings-ListView': [],\n",
    "        'DD_Doc_Details-ListView': [],\n",
    "        'DD_Docs_Out-ListView': [],\n",
    "        'DD_Files-ListView': [],\n",
    "        'DD_Docs-ListView': [],\n",
    "        'Other': []\n",
    "    }\n",
    "    \n",
    "    for i in range(len(tables)):\n",
    "        table = tables[i]\n",
    "        operation = operations[i]\n",
    "        json_item = json_items[i]\n",
    "        index = indexes[i]\n",
    "        record = resords[i]\n",
    "\n",
    "        if table == 'ED_Meter_Readings-ListView':\n",
    "            buffer['ED_Meter_Readings-ListView'].append([index, record, table, operation, json.loads(json_item)])\n",
    "            \n",
    "        if table == 'DD_Doc_Details-ListView':\n",
    "            buffer['DD_Doc_Details-ListView'].append([index, record, table, operation, json.loads(json_item)])\n",
    "            \n",
    "        if table == 'DD_Docs_Out-ListView':\n",
    "            buffer['DD_Docs_Out-ListView'].append([index, record, table, operation, json.loads(json_item)])\n",
    "            \n",
    "        if table == 'DD_Files-ListView':\n",
    "            try:\n",
    "                buffer['DD_Files-ListView'].append([index, record, table, operation, json.loads(json_item)])\n",
    "            except:\n",
    "                buffer['DD_Files-ListView'].append([index, record, table, operation, None])\n",
    "            \n",
    "        if table == 'DD_Docs-ListView':\n",
    "            buffer['DD_Docs-ListView'].append([index, record, table, operation, json.loads(json_item)])\n",
    "            \n",
    "            if len(buffer['ED_Meter_Readings-ListView']) > 0 and len(buffer['DD_Docs_Out-ListView']) > 0 and len(buffer['DD_Files-ListView']) > 0 and len(buffer['DD_Docs-ListView']) > 0:\n",
    "                for key in buffer:\n",
    "                    for j in range(len(buffer[key])):\n",
    "                        if buffer['DD_Docs_Out-ListView'][0][4]['LINK'] == buffer['DD_Docs-ListView'][0][4]['LINK']:\n",
    "                            dict_algoritm_1[user_id].append(buffer[key][j])\n",
    "                        else:\n",
    "                            correct_records.append(buffer[key][j][1])\n",
    "                            \n",
    "                        use_records.append(buffer[key][j][1])\n",
    "                        \n",
    "                        df.loc[df.index == buffer[key][j][0], 'Group_ID'] = buffer['DD_Docs_Out-ListView'][0][1]\n",
    "                        \n",
    "            buffer = {\n",
    "                'ED_Meter_Readings-ListView': [],\n",
    "                'DD_Doc_Details-ListView': [],\n",
    "                'DD_Docs_Out-ListView': [],\n",
    "                'DD_Files-ListView': [],\n",
    "                'DD_Docs-ListView': [],\n",
    "                'Other': []\n",
    "            }\n",
    "            \n",
    "        if table not in (['ED_Meter_Readings-ListView', 'DD_Doc_Details-ListView', 'DD_Docs_Out-ListView', 'DD_Files-ListView', 'DD_Docs-ListView']):\n",
    "            try:\n",
    "                buffer['Other'].append([index, record, table, operation, json.loads(json_item)])\n",
    "            except:\n",
    "                buffer['Other'].append([index, record, table, operation, None])\n",
    "            \n",
    "    # дозаписываем данные\n",
    "    if len(buffer['ED_Meter_Readings-ListView']) > 0 and len(buffer['DD_Docs_Out-ListView']) > 0 and len(buffer['DD_Files-ListView']) > 0 and len(buffer['DD_Docs-ListView']) > 0:\n",
    "        for key in buffer:\n",
    "            for j in range(len(buffer[key])):\n",
    "                dict_algoritm_1[user_id].append(buffer[key][j])\n",
    "                use_records.append(buffer[key][j][1])\n",
    "                \n",
    "                df.loc[df.index == buffer[key][j][0], 'Group_ID'] = buffer['DD_Docs_Out-ListView'][0][1]"
   ]
  },
  {
   "cell_type": "code",
   "execution_count": 939,
   "id": "8547470c",
   "metadata": {},
   "outputs": [],
   "source": [
    "# use_records = []\n",
    "# correct_records = []\n",
    "# dict_algoritm_1 = {'7d865ee6-9803-427f-81f4-c8f956f6b46b': []}\n",
    "# algoritm_1('7d865ee6-9803-427f-81f4-c8f956f6b46b')\n",
    "\n",
    "# df['Use'] = df['C_Record_ID'].isin(use_records)\n",
    "\n",
    "# display(df.loc[df['F_User'] == '7d865ee6-9803-427f-81f4-c8f956f6b46b', ['C_Record_ID', 'C_Table', 'D_Date_Created', 'Group_ID', 'Use']].sort_values(by=['D_Date_Created'], ascending=True).head(50))"
   ]
  },
  {
   "cell_type": "code",
   "execution_count": 940,
   "id": "c496d6cb",
   "metadata": {},
   "outputs": [],
   "source": [
    "for i in range(len(users)):\n",
    "    user_id = users[i]\n",
    "    algoritm_1(user_id)"
   ]
  },
  {
   "cell_type": "code",
   "execution_count": 941,
   "id": "494d41e4",
   "metadata": {},
   "outputs": [
    {
     "name": "stdout",
     "output_type": "stream",
     "text": [
      "Обработано записей: 25165\n"
     ]
    }
   ],
   "source": [
    "df['Use'] = df['C_Record_ID'].isin(use_records)\n",
    "print(f'Обработано записей: {len(use_records)}')"
   ]
  },
  {
   "cell_type": "code",
   "execution_count": 942,
   "id": "e4669ab7",
   "metadata": {},
   "outputs": [],
   "source": [
    "df.to_excel('outputs/algoritm_1.xlsx')"
   ]
  },
  {
   "cell_type": "markdown",
   "id": "9af2bdd2",
   "metadata": {},
   "source": [
    "## Алгоритм"
   ]
  },
  {
   "cell_type": "markdown",
   "id": "63a7b752",
   "metadata": {},
   "source": [
    "Последовательность ED_Meter_Readings-ListView -> DD_Docs_Out-ListView -> DD_Files-ListView -> DD_Docs-ListView"
   ]
  },
  {
   "cell_type": "code",
   "execution_count": 943,
   "id": "5baf3bed",
   "metadata": {},
   "outputs": [],
   "source": [
    "# dict_algoritm_2 = {}\n",
    "# for i in range(len(users)):\n",
    "#     dict_algoritm_2[users[i]] = []"
   ]
  },
  {
   "cell_type": "code",
   "execution_count": 944,
   "id": "933694c2",
   "metadata": {},
   "outputs": [],
   "source": [
    "# def algoritm_2(user_id):    \n",
    "#     items = df.loc[(df['F_User'] == user_id) & (df['Use'] == False)].sort_values(by=['D_Date_Created'], ascending=True)\n",
    "\n",
    "#     indexes = list(items.index)\n",
    "#     tables = list(items['C_Table'])\n",
    "#     operations = list(items['N_Operation'])\n",
    "#     json_items = list(items['C_Json'])\n",
    "#     resords = list(items['C_Record_ID'])\n",
    "\n",
    "#     buffer = {\n",
    "#         'ED_Meter_Readings-ListView': [],\n",
    "#         'DD_Docs_Out-ListView': [],\n",
    "#         'DD_Files-ListView': [],\n",
    "#         'DD_Docs-ListView': [],\n",
    "#         'Other': []\n",
    "#     }\n",
    "    \n",
    "#     is_meter = False\n",
    "#     is_not_meter = False\n",
    "    \n",
    "#     for i in range(len(tables)):\n",
    "#         table = tables[i]\n",
    "#         operation = operations[i]\n",
    "#         json_item = json_items[i]\n",
    "#         index = indexes[i]\n",
    "#         record = resords[i]\n",
    "\n",
    "#         if table == 'ED_Meter_Readings-ListView':\n",
    "#             is_meter = True\n",
    "            \n",
    "#             if len(buffer['ED_Meter_Readings-ListView']) > 0 and len(buffer['DD_Docs_Out-ListView']) > 0 and len(buffer['DD_Files-ListView']) > 0 and len(buffer['DD_Docs-ListView']) > 0:\n",
    "                 \n",
    "#                 for key in buffer:\n",
    "#                     for j in range(len(buffer[key])):\n",
    "#                         if buffer['DD_Docs_Out-ListView'][0][4]['LINK'] == buffer['DD_Docs-ListView'][0][4]['LINK']:\n",
    "#                             dict_algoritm_2[user_id].append(buffer[key][j])\n",
    "#                         else:\n",
    "#                             correct_records.append(buffer[key][j][1])\n",
    "                            \n",
    "#                         use_records.append(buffer[key][j][1])\n",
    "                            \n",
    "#             if is_not_meter == True:   \n",
    "#                 buffer = {\n",
    "#                     'ED_Meter_Readings-ListView': [],\n",
    "#                     'DD_Docs_Out-ListView': [],\n",
    "#                     'DD_Files-ListView': [],\n",
    "#                     'DD_Docs-ListView': [],\n",
    "#                     'Other': []\n",
    "#                 }\n",
    "                \n",
    "#             buffer['ED_Meter_Readings-ListView'].append([index, record, table, operation, json.loads(json_item)])\n",
    "                \n",
    "#             is_not_meter = False\n",
    "#         else:\n",
    "#             is_meter = False\n",
    "            \n",
    "#         if table == 'DD_Docs_Out-ListView' and len(buffer['ED_Meter_Readings-ListView']) > 0:\n",
    "#             buffer['DD_Docs_Out-ListView'].append([index, record, table, operation, json.loads(json_item)])\n",
    "            \n",
    "#         if table == 'DD_Files-ListView' and len(buffer['ED_Meter_Readings-ListView']) > 0 and len(buffer['DD_Docs_Out-ListView']) > 0:\n",
    "#             try:\n",
    "#                 buffer['DD_Files-ListView'].append([index, record, table, operation, json.loads(json_item)])\n",
    "#             except:\n",
    "#                 buffer['DD_Files-ListView'].append([index, record, table, operation, None])\n",
    "            \n",
    "#         if table == 'DD_Docs-ListView' and len(buffer['ED_Meter_Readings-ListView']) > 0 and len(buffer['DD_Docs_Out-ListView']) > 0 and len(buffer['DD_Files-ListView']) > 0:\n",
    "#             buffer['DD_Docs-ListView'].append([index, record, table, operation, json.loads(json_item)])\n",
    "#             is_not_meter = True\n",
    "            \n",
    "#         if table not in (['ED_Meter_Readings-ListView', 'DD_Docs_Out-ListView', 'DD_Files-ListView', 'DD_Docs-ListView']):\n",
    "#             try:\n",
    "#                 buffer['Other'].append([index, record, table, operation, json.loads(json_item)])\n",
    "#             except:\n",
    "#                 buffer['Other'].append([index, record, table, operation, None])\n",
    "            \n",
    "#     # дозаписываем данные\n",
    "#     if len(buffer['ED_Meter_Readings-ListView']) > 0 and len(buffer['DD_Docs_Out-ListView']) > 0 and len(buffer['DD_Files-ListView']) > 0 and len(buffer['DD_Docs-ListView']) > 0:\n",
    "#         for key in buffer:\n",
    "#             for j in range(len(buffer[key])):\n",
    "#                 dict_algoritm_2[user_id].append(buffer[key][j])\n",
    "#                 use_records.append(buffer[key][j][1])"
   ]
  },
  {
   "cell_type": "code",
   "execution_count": 945,
   "id": "fb6c2bec",
   "metadata": {},
   "outputs": [],
   "source": [
    "# for i in range(len(users)):\n",
    "#     user_id = users[i]\n",
    "#     algoritm_2(user_id)"
   ]
  },
  {
   "cell_type": "code",
   "execution_count": 946,
   "id": "76c3f0aa",
   "metadata": {},
   "outputs": [],
   "source": [
    "# df['Use'] = df['C_Record_ID'].isin(use_records)\n",
    "# print(f'Обработано записей: {len(use_records)}')"
   ]
  },
  {
   "cell_type": "code",
   "execution_count": 947,
   "id": "4af8ae4b",
   "metadata": {},
   "outputs": [],
   "source": [
    "# df.to_excel('outputs/algoritm_2.xlsx')"
   ]
  },
  {
   "cell_type": "markdown",
   "id": "c1d74792",
   "metadata": {},
   "source": [
    "## Алгоритм"
   ]
  },
  {
   "cell_type": "markdown",
   "id": "a1dfd92c",
   "metadata": {},
   "source": [
    "Последовательность ED_Meter_Readings-ListView -> DD_Doc_Details-ListView -> DD_Docs_Out-ListView -> DD_Docs-ListView"
   ]
  },
  {
   "cell_type": "code",
   "execution_count": 948,
   "id": "5f794b6f",
   "metadata": {},
   "outputs": [],
   "source": [
    "# dict_algoritm_3 = {}\n",
    "# for i in range(len(users)):\n",
    "#     dict_algoritm_3[users[i]] = []"
   ]
  },
  {
   "cell_type": "code",
   "execution_count": 949,
   "id": "3f75429a",
   "metadata": {},
   "outputs": [],
   "source": [
    "# def algoritm_3(user_id):    \n",
    "#     items = df.loc[(df['F_User'] == user_id) & (df['Use'] == False)].sort_values(by=['D_Date_Created'], ascending=True)\n",
    "\n",
    "#     indexes = list(items.index)\n",
    "#     tables = list(items['C_Table'])\n",
    "#     operations = list(items['N_Operation'])\n",
    "#     json_items = list(items['C_Json'])\n",
    "#     resords = list(items['C_Record_ID'])\n",
    "\n",
    "#     buffer = {\n",
    "#         'ED_Meter_Readings-ListView': [],\n",
    "#         'DD_Doc_Details-ListView': [],\n",
    "#         'DD_Docs_Out-ListView': [],\n",
    "#         'DD_Docs-ListView': [],\n",
    "#         'Other': []\n",
    "#     }\n",
    "    \n",
    "#     is_meter = False\n",
    "#     is_not_meter = False\n",
    "    \n",
    "#     for i in range(len(tables)):\n",
    "#         table = tables[i]\n",
    "#         operation = operations[i]\n",
    "#         json_item = json_items[i]\n",
    "#         index = indexes[i]\n",
    "#         record = resords[i]\n",
    "\n",
    "#         if table == 'ED_Meter_Readings-ListView':\n",
    "#             is_meter = True\n",
    "            \n",
    "#             if len(buffer['ED_Meter_Readings-ListView']) > 0 and len(buffer['DD_Doc_Details-ListView']) > 0 and len(buffer['DD_Docs_Out-ListView']) > 0 and len(buffer['DD_Docs-ListView']) > 0:\n",
    "                \n",
    "#                 for key in buffer:\n",
    "#                     for j in range(len(buffer[key])):\n",
    "#                         if buffer['DD_Docs_Out-ListView'][0][4]['LINK'] == buffer['DD_Docs-ListView'][0][4]['LINK']:\n",
    "#                             dict_algoritm_3[user_id].append(buffer[key][j])\n",
    "#                         else:\n",
    "#                             correct_records.append(buffer[key][j][1])\n",
    "                            \n",
    "#                         use_records.append(buffer[key][j][1])\n",
    "                            \n",
    "#             if is_not_meter == True:   \n",
    "#                 buffer = {\n",
    "#                     'ED_Meter_Readings-ListView': [],\n",
    "#                     'DD_Doc_Details-ListView': [],\n",
    "#                     'DD_Docs_Out-ListView': [],\n",
    "#                     'DD_Docs-ListView': [],\n",
    "#                     'Other': []\n",
    "#                 }\n",
    "                \n",
    "#             buffer['ED_Meter_Readings-ListView'].append([index, record, table, operation, json.loads(json_item)])\n",
    "                \n",
    "#             is_not_meter = False\n",
    "#         else:\n",
    "#             is_meter = False\n",
    "            \n",
    "#         if table == 'DD_Doc_Details-ListView' and len(buffer['ED_Meter_Readings-ListView']) > 0:\n",
    "#             buffer['DD_Doc_Details-ListView'].append([index, record, table, operation, json.loads(json_item)])\n",
    "            \n",
    "#         if table == 'DD_Docs_Out-ListView' and len(buffer['ED_Meter_Readings-ListView']) > 0 and len(buffer['DD_Doc_Details-ListView']) > 0:\n",
    "#             buffer['DD_Docs_Out-ListView'].append([index, record, table, operation, json.loads(json_item)])\n",
    "            \n",
    "#         if table == 'DD_Docs-ListView' and len(buffer['ED_Meter_Readings-ListView']) > 0 and len(buffer['DD_Doc_Details-ListView']) > 0 and len(buffer['DD_Docs_Out-ListView']) > 0:\n",
    "#             buffer['DD_Docs-ListView'].append([index, record, table, operation, json.loads(json_item)])\n",
    "#             is_not_meter = True\n",
    "        \n",
    "#         if table not in (['ED_Meter_Readings-ListView', 'DD_Doc_Details-ListView', 'DD_Docs_Out-ListView', 'DD_Docs-ListView']):\n",
    "#             try:\n",
    "#                 buffer['Other'].append([index, record, table, operation, json.loads(json_item)])\n",
    "#             except:\n",
    "#                 buffer['Other'].append([index, record, table, operation, None])\n",
    "            \n",
    "#     # дозаписываем данные\n",
    "#     if len(buffer['ED_Meter_Readings-ListView']) > 0 and len(buffer['DD_Doc_Details-ListView']) > 0 and len(buffer['DD_Docs_Out-ListView']) > 0 and len(buffer['DD_Docs-ListView']) > 0:\n",
    "#         for key in buffer:\n",
    "#             for j in range(len(buffer[key])):\n",
    "#                 dict_algoritm_3[user_id].append(buffer[key][j])\n",
    "#                 use_records.append(buffer[key][j][1])"
   ]
  },
  {
   "cell_type": "code",
   "execution_count": 950,
   "id": "c6ccc011",
   "metadata": {},
   "outputs": [],
   "source": [
    "# for i in range(len(users)):\n",
    "#     user_id = users[i]\n",
    "#     algoritm_3(user_id)"
   ]
  },
  {
   "cell_type": "code",
   "execution_count": 951,
   "id": "9809956b",
   "metadata": {},
   "outputs": [],
   "source": [
    "# df['Use'] = df['C_Record_ID'].isin(use_records)\n",
    "# print(f'Обработано записей: {len(use_records)}')"
   ]
  },
  {
   "cell_type": "code",
   "execution_count": 952,
   "id": "3f57a0bb",
   "metadata": {},
   "outputs": [],
   "source": [
    "# df.to_excel('outputs/algoritm_3.xlsx')"
   ]
  },
  {
   "cell_type": "markdown",
   "id": "0f9abf06",
   "metadata": {},
   "source": [
    "## Алгоритм"
   ]
  },
  {
   "cell_type": "markdown",
   "id": "130f0bed",
   "metadata": {},
   "source": [
    "Последовательность DD_Doc_Details-ListView -> DD_Docs_Out-ListView -> DD_Docs-ListView"
   ]
  },
  {
   "cell_type": "code",
   "execution_count": 953,
   "id": "35ee54c4",
   "metadata": {},
   "outputs": [],
   "source": [
    "dict_algoritm_4 = {}\n",
    "for i in range(len(users)):\n",
    "    dict_algoritm_4[users[i]] = []"
   ]
  },
  {
   "cell_type": "code",
   "execution_count": 954,
   "id": "4d60acbe",
   "metadata": {},
   "outputs": [],
   "source": [
    "def algoritm_4(user_id):    \n",
    "    items = df.loc[(df['F_User'] == user_id) & (df['Use'] == False)].sort_values(by=['D_Date_Created'], ascending=True)\n",
    "\n",
    "    indexes = list(items.index)\n",
    "    tables = list(items['C_Table'])\n",
    "    operations = list(items['N_Operation'])\n",
    "    json_items = list(items['C_Json'])\n",
    "    resords = list(items['C_Record_ID'])\n",
    "\n",
    "    buffer = {\n",
    "        'DD_Doc_Details-ListView': [],\n",
    "        'DD_Docs_Out-ListView': [],\n",
    "        'DD_Docs-ListView': [],\n",
    "        'Other': []\n",
    "    }\n",
    "    \n",
    "    for i in range(len(tables)):\n",
    "        table = tables[i]\n",
    "        operation = operations[i]\n",
    "        json_item = json_items[i]\n",
    "        index = indexes[i]\n",
    "        record = resords[i]\n",
    "\n",
    "        if table == 'DD_Doc_Details-ListView': \n",
    "            buffer['DD_Doc_Details-ListView'].append([index, record, table, operation, json.loads(json_item)])\n",
    "            \n",
    "        if table == 'DD_Docs_Out-ListView':\n",
    "            buffer['DD_Docs_Out-ListView'].append([index, record, table, operation, json.loads(json_item)])\n",
    "            \n",
    "        if table == 'DD_Docs-ListView':\n",
    "            buffer['DD_Docs-ListView'].append([index, record, table, operation, json.loads(json_item)])\n",
    "            \n",
    "            if len(buffer['DD_Doc_Details-ListView']) > 0 and len(buffer['DD_Docs_Out-ListView']) > 0 and len(buffer['DD_Docs-ListView']) > 0:\n",
    "                for key in buffer:\n",
    "                    for j in range(len(buffer[key])):\n",
    "                        if buffer['DD_Docs_Out-ListView'][0][4]['LINK'] == buffer['DD_Docs-ListView'][0][4]['LINK']:\n",
    "                            dict_algoritm_4[user_id].append(buffer[key][j])\n",
    "                        else:\n",
    "                            correct_records.append(buffer[key][j][1])\n",
    "\n",
    "                        use_records.append(buffer[key][j][1])\n",
    "\n",
    "                        df.loc[df.index == buffer[key][j][0], 'Group_ID'] = buffer['DD_Docs_Out-ListView'][0][1]\n",
    "                            \n",
    "            buffer = {\n",
    "                'DD_Doc_Details-ListView': [],\n",
    "                'DD_Docs_Out-ListView': [],\n",
    "                'DD_Docs-ListView': [],\n",
    "                'Other': []\n",
    "            }\n",
    "        \n",
    "        if table not in (['DD_Doc_Details-ListView', 'DD_Docs_Out-ListView', 'DD_Docs-ListView']):\n",
    "            try:\n",
    "                buffer['Other'].append([index, record, table, operation, json.loads(json_item)])\n",
    "            except:\n",
    "                buffer['Other'].append([index, record, table, operation, None])\n",
    "            \n",
    "    # дозаписываем данные\n",
    "    if len(buffer['DD_Doc_Details-ListView']) > 0 and len(buffer['DD_Docs_Out-ListView']) > 0 and len(buffer['DD_Docs-ListView']) > 0:\n",
    "        for key in buffer:\n",
    "            for j in range(len(buffer[key])):\n",
    "                dict_algoritm_4[user_id].append(buffer[key][j])\n",
    "                use_records.append(buffer[key][j][1])\n",
    "                \n",
    "                df.loc[df.index == buffer[key][j][0], 'Group_ID'] = buffer['DD_Docs_Out-ListView'][0][1]"
   ]
  },
  {
   "cell_type": "code",
   "execution_count": 955,
   "id": "74b4acf3",
   "metadata": {},
   "outputs": [],
   "source": [
    "for i in range(len(users)):\n",
    "    user_id = users[i]\n",
    "    algoritm_4(user_id)"
   ]
  },
  {
   "cell_type": "code",
   "execution_count": 956,
   "id": "1245fd38",
   "metadata": {},
   "outputs": [
    {
     "name": "stdout",
     "output_type": "stream",
     "text": [
      "Обработано записей: 28304\n"
     ]
    }
   ],
   "source": [
    "df['Use'] = df['C_Record_ID'].isin(use_records)\n",
    "print(f'Обработано записей: {len(use_records)}')"
   ]
  },
  {
   "cell_type": "code",
   "execution_count": 957,
   "id": "c1be6234",
   "metadata": {},
   "outputs": [],
   "source": [
    "df.to_excel('outputs/algoritm_4.xlsx')"
   ]
  },
  {
   "cell_type": "markdown",
   "id": "a2a5d127",
   "metadata": {},
   "source": [
    "## Алгоритм"
   ]
  },
  {
   "cell_type": "markdown",
   "id": "6ab5367d",
   "metadata": {},
   "source": [
    "Последовательность DD_Docs_Out-ListView -> DD_Files-ListView -> DD_Docs-ListView"
   ]
  },
  {
   "cell_type": "code",
   "execution_count": 958,
   "id": "8c15d2c0",
   "metadata": {},
   "outputs": [],
   "source": [
    "dict_algoritm_5 = {}\n",
    "for i in range(len(users)):\n",
    "    dict_algoritm_5[users[i]] = []"
   ]
  },
  {
   "cell_type": "code",
   "execution_count": 959,
   "id": "c1aac68f",
   "metadata": {},
   "outputs": [],
   "source": [
    "def algoritm_5(user_id):    \n",
    "    items = df.loc[(df['F_User'] == user_id) & (df['Use'] == False)].sort_values(by=['D_Date_Created'], ascending=True)\n",
    "\n",
    "    indexes = list(items.index)\n",
    "    tables = list(items['C_Table'])\n",
    "    operations = list(items['N_Operation'])\n",
    "    json_items = list(items['C_Json'])\n",
    "    resords = list(items['C_Record_ID'])\n",
    "\n",
    "    buffer = {\n",
    "        'DD_Docs_Out-ListView': [],\n",
    "        'DD_Files-ListView': [],\n",
    "        'DD_Docs-ListView': [],\n",
    "        'Other': []\n",
    "    }\n",
    "    \n",
    "    for i in range(len(tables)):\n",
    "        table = tables[i]\n",
    "        operation = operations[i]\n",
    "        json_item = json_items[i]\n",
    "        index = indexes[i]\n",
    "        record = resords[i]\n",
    "\n",
    "        if table == 'DD_Docs_Out-ListView':\n",
    "            buffer['DD_Docs_Out-ListView'].append([index, record, table, operation, json.loads(json_item)])\n",
    "            \n",
    "        if table == 'DD_Files-ListView':\n",
    "            try:\n",
    "                buffer['DD_Files-ListView'].append([index, record, table, operation, json.loads(json_item)])\n",
    "            except:\n",
    "                buffer['DD_Files-ListView'].append([index, record, table, operation, None])\n",
    "            \n",
    "        if table == 'DD_Docs-ListView':\n",
    "            buffer['DD_Docs-ListView'].append([index, record, table, operation, json.loads(json_item)])\n",
    "            \n",
    "            if len(buffer['DD_Docs_Out-ListView']) > 0 and len(buffer['DD_Files-ListView']) > 0 and len(buffer['DD_Docs-ListView']) > 0:\n",
    "                for key in buffer:\n",
    "                    for j in range(len(buffer[key])):\n",
    "                        if buffer['DD_Docs_Out-ListView'][0][4]['LINK'] == buffer['DD_Docs-ListView'][0][4]['LINK']:\n",
    "                            dict_algoritm_5[user_id].append(buffer[key][j])\n",
    "                        else:\n",
    "                            correct_records.append(buffer[key][j][1])\n",
    "                            \n",
    "                        use_records.append(buffer[key][j][1])\n",
    "                        \n",
    "                        df.loc[df.index == buffer[key][j][0], 'Group_ID'] = buffer['DD_Docs_Out-ListView'][0][1]\n",
    "            buffer = {\n",
    "                'DD_Docs_Out-ListView': [],\n",
    "                'DD_Files-ListView': [],\n",
    "                'DD_Docs-ListView': [],\n",
    "                'Other': []\n",
    "            }\n",
    "        \n",
    "        if table not in (['DD_Docs_Out-ListView', 'DD_Files-ListView', 'DD_Docs-ListView']):\n",
    "            try:\n",
    "                buffer['Other'].append([index, record, table, operation, json.loads(json_item)])\n",
    "            except:\n",
    "                buffer['Other'].append([index, record, table, operation, None])\n",
    "            \n",
    "    # дозаписываем данные\n",
    "    if len(buffer['DD_Docs_Out-ListView']) > 0 and len(buffer['DD_Files-ListView']) > 0 and len(buffer['DD_Docs-ListView']) > 0:\n",
    "        for key in buffer:\n",
    "            for j in range(len(buffer[key])):\n",
    "                dict_algoritm_5[user_id].append(buffer[key][j])\n",
    "                use_records.append(buffer[key][j][1])\n",
    "                \n",
    "                df.loc[df.index == buffer[key][j][0], 'Group_ID'] = buffer['DD_Docs_Out-ListView'][0][1]"
   ]
  },
  {
   "cell_type": "code",
   "execution_count": 960,
   "id": "2e42be9e",
   "metadata": {},
   "outputs": [],
   "source": [
    "for i in range(len(users)):\n",
    "    user_id = users[i]\n",
    "    algoritm_5(user_id)"
   ]
  },
  {
   "cell_type": "code",
   "execution_count": 961,
   "id": "0bce8108",
   "metadata": {},
   "outputs": [
    {
     "name": "stdout",
     "output_type": "stream",
     "text": [
      "Обработано записей: 28846\n"
     ]
    }
   ],
   "source": [
    "df['Use'] = df['C_Record_ID'].isin(use_records)\n",
    "print(f'Обработано записей: {len(use_records)}')"
   ]
  },
  {
   "cell_type": "code",
   "execution_count": 962,
   "id": "b79e8dd5",
   "metadata": {},
   "outputs": [],
   "source": [
    "df.to_excel('outputs/algoritm_5.xlsx')"
   ]
  },
  {
   "cell_type": "code",
   "execution_count": 963,
   "id": "882a406c",
   "metadata": {},
   "outputs": [
    {
     "data": {
      "text/plain": [
       "4611"
      ]
     },
     "execution_count": 963,
     "metadata": {},
     "output_type": "execute_result"
    }
   ],
   "source": [
    "df['Group_ID'].nunique()"
   ]
  },
  {
   "cell_type": "code",
   "execution_count": null,
   "id": "7e95e0b5",
   "metadata": {},
   "outputs": [],
   "source": []
  }
 ],
 "metadata": {
  "kernelspec": {
   "display_name": "Python 3 (ipykernel)",
   "language": "python",
   "name": "python3"
  },
  "language_info": {
   "codemirror_mode": {
    "name": "ipython",
    "version": 3
   },
   "file_extension": ".py",
   "mimetype": "text/x-python",
   "name": "python",
   "nbconvert_exporter": "python",
   "pygments_lexer": "ipython3",
   "version": "3.10.11"
  },
  "toc": {
   "base_numbering": 1,
   "nav_menu": {},
   "number_sections": true,
   "sideBar": true,
   "skip_h1_title": false,
   "title_cell": "Table of Contents",
   "title_sidebar": "Contents",
   "toc_cell": false,
   "toc_position": {},
   "toc_section_display": true,
   "toc_window_display": true
  }
 },
 "nbformat": 4,
 "nbformat_minor": 5
}
